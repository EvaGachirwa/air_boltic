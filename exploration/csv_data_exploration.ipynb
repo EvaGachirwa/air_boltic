{
 "cells": [
  {
   "cell_type": "code",
   "execution_count": 13,
   "id": "c5b41af1-65c5-4607-bfb3-b6bdd0ffbc19",
   "metadata": {},
   "outputs": [],
   "source": [
    "import pandas as pd"
   ]
  },
  {
   "cell_type": "code",
   "execution_count": 14,
   "id": "2dfc0c12-e569-48f8-813e-5d517625c992",
   "metadata": {},
   "outputs": [],
   "source": [
    "aeroplane_df = pd.read_csv('../data/Air Boltic data - aeroplane.csv')"
   ]
  },
  {
   "cell_type": "code",
   "execution_count": 15,
   "id": "f7a584d3-1d9f-499d-b4d6-c478b6843c2d",
   "metadata": {},
   "outputs": [],
   "source": [
    "customer_df = pd.read_csv('../data/Air Boltic data - customer.csv')"
   ]
  },
  {
   "cell_type": "code",
   "execution_count": 16,
   "id": "26997958-7f4d-4ae6-b481-4c96e95ec167",
   "metadata": {},
   "outputs": [],
   "source": [
    "customer_group_df = pd.read_csv('../data/Air Boltic data - customer_group.csv')"
   ]
  },
  {
   "cell_type": "code",
   "execution_count": 17,
   "id": "71a8ccfd-368d-419f-81bb-45e20edff8fe",
   "metadata": {},
   "outputs": [],
   "source": [
    "order_df = pd.read_csv('../data/Air Boltic data - order.csv')"
   ]
  },
  {
   "cell_type": "code",
   "execution_count": 18,
   "id": "a952c65d-7216-4e4a-96e8-ec7b1b5b7f20",
   "metadata": {},
   "outputs": [],
   "source": [
    "trip_df = pd.read_csv('../data/Air Boltic data - trip.csv')"
   ]
  },
  {
   "cell_type": "code",
   "execution_count": 19,
   "id": "ab2b5254-7e97-4bd0-8ac6-d7737757910b",
   "metadata": {},
   "outputs": [
    {
     "name": "stdout",
     "output_type": "stream",
     "text": [
      "<class 'pandas.core.frame.DataFrame'>\n",
      "RangeIndex: 20 entries, 0 to 19\n",
      "Data columns (total 6 columns):\n",
      " #   Column       Non-Null Count  Dtype \n",
      "---  ------       --------------  ----- \n",
      " 0   Order ID     20 non-null     int64 \n",
      " 1   Customer ID  20 non-null     int64 \n",
      " 2   Trip ID      20 non-null     int64 \n",
      " 3   Price (EUR)  20 non-null     int64 \n",
      " 4   Seat No      20 non-null     object\n",
      " 5   Status       20 non-null     object\n",
      "dtypes: int64(4), object(2)\n",
      "memory usage: 1.1+ KB\n"
     ]
    }
   ],
   "source": [
    "order_df.info()"
   ]
  },
  {
   "cell_type": "code",
   "execution_count": null,
   "id": "d5132c67-243c-4193-aa4c-be6e956664ea",
   "metadata": {},
   "outputs": [],
   "source": []
  }
 ],
 "metadata": {
  "kernelspec": {
   "display_name": "Python 3 (ipykernel)",
   "language": "python",
   "name": "python3"
  },
  "language_info": {
   "codemirror_mode": {
    "name": "ipython",
    "version": 3
   },
   "file_extension": ".py",
   "mimetype": "text/x-python",
   "name": "python",
   "nbconvert_exporter": "python",
   "pygments_lexer": "ipython3",
   "version": "3.10.14"
  }
 },
 "nbformat": 4,
 "nbformat_minor": 5
}

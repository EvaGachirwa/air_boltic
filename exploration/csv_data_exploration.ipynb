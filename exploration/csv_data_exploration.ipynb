{
 "cells": [
  {
   "cell_type": "code",
   "execution_count": 1,
   "id": "c5b41af1-65c5-4607-bfb3-b6bdd0ffbc19",
   "metadata": {},
   "outputs": [],
   "source": [
    "import pandas as pd"
   ]
  },
  {
   "cell_type": "code",
   "execution_count": 3,
   "id": "2dfc0c12-e569-48f8-813e-5d517625c992",
   "metadata": {},
   "outputs": [],
   "source": [
    "aeroplane_df = pd.read_csv('../data/Air Boltic data - aeroplane.csv')"
   ]
  },
  {
   "cell_type": "code",
   "execution_count": 4,
   "id": "f7a584d3-1d9f-499d-b4d6-c478b6843c2d",
   "metadata": {},
   "outputs": [],
   "source": [
    "customer_df = pd.read_csv('../data/Air Boltic data - customer.csv')"
   ]
  },
  {
   "cell_type": "code",
   "execution_count": 5,
   "id": "26997958-7f4d-4ae6-b481-4c96e95ec167",
   "metadata": {},
   "outputs": [],
   "source": [
    "customer_group_df = pd.read_csv('../data/Air Boltic data - customer_group.csv')"
   ]
  },
  {
   "cell_type": "code",
   "execution_count": 6,
   "id": "71a8ccfd-368d-419f-81bb-45e20edff8fe",
   "metadata": {},
   "outputs": [],
   "source": [
    "order_df = pd.read_csv('../data/Air Boltic data - order.csv')"
   ]
  },
  {
   "cell_type": "code",
   "execution_count": 7,
   "id": "a952c65d-7216-4e4a-96e8-ec7b1b5b7f20",
   "metadata": {},
   "outputs": [],
   "source": [
    "trip_df = pd.read_csv('../data/Air Boltic data - trip.csv')"
   ]
  },
  {
   "cell_type": "code",
   "execution_count": 12,
   "id": "ab2b5254-7e97-4bd0-8ac6-d7737757910b",
   "metadata": {},
   "outputs": [
    {
     "data": {
      "text/plain": [
       "<bound method NDFrame.describe of     Trip ID     Origin City Destination City  Airplane ID  \\\n",
       "0         1        New York           London            1   \n",
       "1         2           Tokyo            Paris            2   \n",
       "2         3          Sydney      Los Angeles            3   \n",
       "3         4           Dubai        Singapore            4   \n",
       "4         5          Berlin           Madrid            5   \n",
       "5         6          Moscow        Hong Kong            6   \n",
       "6         7       Sao Paulo            Miami            7   \n",
       "7         8         Toronto          Chicago            8   \n",
       "8         9         Beijing    San Francisco            9   \n",
       "9        10          Mumbai            Dubai           10   \n",
       "10       11       Frankfurt            Tokyo            1   \n",
       "11       12     Los Angeles           Sydney            2   \n",
       "12       13           Paris         New York            3   \n",
       "13       14       Hong Kong           London            4   \n",
       "14       15       Amsterdam            Dubai            5   \n",
       "15       16  Rio de Janeiro     Johannesburg            6   \n",
       "16       17         Bangkok        Frankfurt            7   \n",
       "17       18       Melbourne         Auckland            8   \n",
       "18       19       Cape Town        Sao Paulo            9   \n",
       "19       20       Vancouver      Mexico City           10   \n",
       "\n",
       "        Start Timestamp        End Timestamp  \n",
       "0   2024-08-01 14:30:00  2024-08-02 02:00:00  \n",
       "1   2024-08-03 09:00:00  2024-08-03 17:00:00  \n",
       "2   2024-08-05 22:00:00  2024-08-05 15:00:00  \n",
       "3   2024-08-07 06:00:00  2024-08-07 10:30:00  \n",
       "4   2024-08-09 16:00:00  2024-08-09 19:00:00  \n",
       "5   2024-08-10 11:00:00  2024-08-10 21:00:00  \n",
       "6   2024-08-12 13:00:00  2024-08-12 19:30:00  \n",
       "7   2024-08-13 08:30:00  2024-08-13 10:00:00  \n",
       "8   2024-08-14 19:00:00  2024-08-14 13:00:00  \n",
       "9   2024-08-15 04:00:00  2024-08-15 06:30:00  \n",
       "10  2024-08-16 07:00:00  2024-08-16 23:00:00  \n",
       "11  2024-08-18 23:30:00  2024-08-19 09:00:00  \n",
       "12  2024-08-20 10:00:00  2024-08-20 12:30:00  \n",
       "13  2024-08-21 01:00:00  2024-08-21 11:00:00  \n",
       "14  2024-08-22 12:00:00  2024-08-22 20:00:00  \n",
       "15  2024-08-24 14:30:00  2024-08-24 19:30:00  \n",
       "16  2024-08-25 06:00:00  2024-08-25 14:30:00  \n",
       "17  2024-08-26 18:00:00  2024-08-26 23:00:00  \n",
       "18  2024-08-27 07:00:00  2024-08-27 14:00:00  \n",
       "19  2024-08-28 09:00:00  2024-08-28 13:30:00  >"
      ]
     },
     "execution_count": 12,
     "metadata": {},
     "output_type": "execute_result"
    }
   ],
   "source": [
    "trip_df.describe"
   ]
  },
  {
   "cell_type": "code",
   "execution_count": null,
   "id": "d5132c67-243c-4193-aa4c-be6e956664ea",
   "metadata": {},
   "outputs": [],
   "source": []
  }
 ],
 "metadata": {
  "kernelspec": {
   "display_name": "Python 3 (ipykernel)",
   "language": "python",
   "name": "python3"
  },
  "language_info": {
   "codemirror_mode": {
    "name": "ipython",
    "version": 3
   },
   "file_extension": ".py",
   "mimetype": "text/x-python",
   "name": "python",
   "nbconvert_exporter": "python",
   "pygments_lexer": "ipython3",
   "version": "3.10.14"
  }
 },
 "nbformat": 4,
 "nbformat_minor": 5
}
